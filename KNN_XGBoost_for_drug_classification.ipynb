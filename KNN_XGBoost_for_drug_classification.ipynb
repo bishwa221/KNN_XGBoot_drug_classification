{
 "cells": [
  {
   "attachments": {},
   "cell_type": "markdown",
   "metadata": {},
   "source": [
    "# Drug Classificiation Using KNN and XGBoost Classifiers\n"
   ]
  },
  {
   "cell_type": "code",
   "execution_count": 1,
   "metadata": {},
   "outputs": [],
   "source": [
    "import numpy as np\n",
    "import pandas as pd\n",
    "import seaborn as sns\n",
    "import matplotlib.pyplot as plt\n",
    "import xgboost as xgb\n",
    "\n",
    "from sklearn.neighbors import KNeighborsClassifier \n",
    "from sklearn.model_selection import train_test_split, cross_val_score, cross_validate, GridSearchCV\n",
    "from sklearn.metrics import multilabel_confusion_matrix, f1_score, accuracy_score\n",
    "from sklearn.impute import SimpleImputer\n",
    "from sklearn.pipeline import Pipeline\n",
    "from sklearn.preprocessing import OneHotEncoder, StandardScaler, LabelEncoder\n",
    "from sklearn.compose import ColumnTransformer"
   ]
  },
  {
   "attachments": {},
   "cell_type": "markdown",
   "metadata": {},
   "source": [
    "### Data Visualization"
   ]
  },
  {
   "cell_type": "code",
   "execution_count": 2,
   "metadata": {},
   "outputs": [
    {
     "data": {
      "text/html": [
       "<div>\n",
       "<style scoped>\n",
       "    .dataframe tbody tr th:only-of-type {\n",
       "        vertical-align: middle;\n",
       "    }\n",
       "\n",
       "    .dataframe tbody tr th {\n",
       "        vertical-align: top;\n",
       "    }\n",
       "\n",
       "    .dataframe thead th {\n",
       "        text-align: right;\n",
       "    }\n",
       "</style>\n",
       "<table border=\"1\" class=\"dataframe\">\n",
       "  <thead>\n",
       "    <tr style=\"text-align: right;\">\n",
       "      <th></th>\n",
       "      <th>Age</th>\n",
       "      <th>Sex</th>\n",
       "      <th>BP</th>\n",
       "      <th>Cholesterol</th>\n",
       "      <th>Na_to_K</th>\n",
       "      <th>Drug</th>\n",
       "    </tr>\n",
       "  </thead>\n",
       "  <tbody>\n",
       "    <tr>\n",
       "      <th>0</th>\n",
       "      <td>23</td>\n",
       "      <td>F</td>\n",
       "      <td>HIGH</td>\n",
       "      <td>HIGH</td>\n",
       "      <td>25.355</td>\n",
       "      <td>DrugY</td>\n",
       "    </tr>\n",
       "    <tr>\n",
       "      <th>1</th>\n",
       "      <td>47</td>\n",
       "      <td>M</td>\n",
       "      <td>LOW</td>\n",
       "      <td>HIGH</td>\n",
       "      <td>13.093</td>\n",
       "      <td>drugC</td>\n",
       "    </tr>\n",
       "    <tr>\n",
       "      <th>2</th>\n",
       "      <td>47</td>\n",
       "      <td>M</td>\n",
       "      <td>LOW</td>\n",
       "      <td>HIGH</td>\n",
       "      <td>10.114</td>\n",
       "      <td>drugC</td>\n",
       "    </tr>\n",
       "    <tr>\n",
       "      <th>3</th>\n",
       "      <td>28</td>\n",
       "      <td>F</td>\n",
       "      <td>NORMAL</td>\n",
       "      <td>HIGH</td>\n",
       "      <td>7.798</td>\n",
       "      <td>drugX</td>\n",
       "    </tr>\n",
       "    <tr>\n",
       "      <th>4</th>\n",
       "      <td>61</td>\n",
       "      <td>F</td>\n",
       "      <td>LOW</td>\n",
       "      <td>HIGH</td>\n",
       "      <td>18.043</td>\n",
       "      <td>DrugY</td>\n",
       "    </tr>\n",
       "  </tbody>\n",
       "</table>\n",
       "</div>"
      ],
      "text/plain": [
       "   Age Sex      BP Cholesterol  Na_to_K   Drug\n",
       "0   23   F    HIGH        HIGH   25.355  DrugY\n",
       "1   47   M     LOW        HIGH   13.093  drugC\n",
       "2   47   M     LOW        HIGH   10.114  drugC\n",
       "3   28   F  NORMAL        HIGH    7.798  drugX\n",
       "4   61   F     LOW        HIGH   18.043  DrugY"
      ]
     },
     "execution_count": 2,
     "metadata": {},
     "output_type": "execute_result"
    }
   ],
   "source": [
    "df=pd.read_csv(\"D:\\Online courses\\Kaggle\\drug200.csv\")\n",
    "#refer to this link to go to the dataset download page\n",
    "df.head()"
   ]
  },
  {
   "cell_type": "code",
   "execution_count": 3,
   "metadata": {},
   "outputs": [
    {
     "data": {
      "text/plain": [
       "Age            0\n",
       "Sex            0\n",
       "BP             0\n",
       "Cholesterol    0\n",
       "Na_to_K        0\n",
       "Drug           0\n",
       "dtype: int64"
      ]
     },
     "execution_count": 3,
     "metadata": {},
     "output_type": "execute_result"
    }
   ],
   "source": [
    "#check for missing values dataframe\n",
    "df.isna().sum()"
   ]
  },
  {
   "cell_type": "code",
   "execution_count": 4,
   "metadata": {},
   "outputs": [
    {
     "data": {
      "text/plain": [
       "<matplotlib.axes._subplots.AxesSubplot at 0x2122f3c2430>"
      ]
     },
     "execution_count": 4,
     "metadata": {},
     "output_type": "execute_result"
    },
    {
     "data": {
      "image/png": "[encoded data removed]",
      "text/plain": [
       "<Figure size 432x288 with 1 Axes>"
      ]
     },
     "metadata": {},
     "output_type": "display_data"
    }
   ],
   "source": [
    "sns.set_style(\"darkgrid\")\n",
    "sns.countplot(x=\"Drug\", data=df)"
   ]
  },
  {
   "cell_type": "code",
   "execution_count": 5,
   "metadata": {},
   "outputs": [
    {
     "data": {
      "text/plain": [
       "<matplotlib.axes._subplots.AxesSubplot at 0x2122f477910>"
      ]
     },
     "execution_count": 5,
     "metadata": {},
     "output_type": "execute_result"
    },
    {
     "data": {
      "image/png": "[encoded data removed]",
      "text/plain": [
       "<Figure size 432x288 with 1 Axes>"
      ]
     },
     "metadata": {},
     "output_type": "display_data"
    }
   ],
   "source": [
    "sns.countplot(x=\"Sex\", data=df)"
   ]
  },
  {
   "cell_type": "code",
   "execution_count": 6,
   "metadata": {},
   "outputs": [
    {
     "data": {
      "text/plain": [
       "<matplotlib.axes._subplots.AxesSubplot at 0x2122f4d3a90>"
      ]
     },
     "execution_count": 6,
     "metadata": {},
     "output_type": "execute_result"
    },
    {
     "data": {
      "image/png": "[encoded data removed]",
      "text/plain": [
       "<Figure size 432x288 with 1 Axes>"
      ]
     },
     "metadata": {},
     "output_type": "display_data"
    }
   ],
   "source": [
    "sns.countplot(data=df, x=\"BP\")"
   ]
  },
  {
   "cell_type": "code",
   "execution_count": 7,
   "metadata": {},
   "outputs": [
    {
     "data": {
      "text/plain": [
       "<matplotlib.axes._subplots.AxesSubplot at 0x2122f52b820>"
      ]
     },
     "execution_count": 7,
     "metadata": {},
     "output_type": "execute_result"
    },
    {
     "data": {
      "image/png": "[encoded data removed]",
      "text/plain": [
       "<Figure size 432x288 with 1 Axes>"
      ]
     },
     "metadata": {},
     "output_type": "display_data"
    }
   ],
   "source": [
    "sns.countplot(data=df, x=\"Cholesterol\")"
   ]
  },
  {
   "cell_type": "code",
   "execution_count": 8,
   "metadata": {},
   "outputs": [
    {
     "data": {
      "text/plain": [
       "<matplotlib.axes._subplots.AxesSubplot at 0x2122f5b8670>"
      ]
     },
     "execution_count": 8,
     "metadata": {},
     "output_type": "execute_result"
    },
    {
     "data": {
      "image/png": "[encoded data removed]",
      "text/plain": [
       "<Figure size 432x288 with 1 Axes>"
      ]
     },
     "metadata": {},
     "output_type": "display_data"
    }
   ],
   "source": [
    "df[\"Na_to_K\"].plot(kind=\"hist\", title=\"Histogram for Na_to_K\")"
   ]
  },
  {
   "cell_type": "code",
   "execution_count": 9,
   "metadata": {},
   "outputs": [
    {
     "data": {
      "text/plain": [
       "<matplotlib.axes._subplots.AxesSubplot at 0x2122f646b20>"
      ]
     },
     "execution_count": 9,
     "metadata": {},
     "output_type": "execute_result"
    },
    {
     "data": {
      "image/png": "[encoded data removed]",
      "text/plain": [
       "<Figure size 432x288 with 1 Axes>"
      ]
     },
     "metadata": {},
     "output_type": "display_data"
    }
   ],
   "source": [
    "df[\"Na_to_K\"].plot(kind=\"box\", title=\"Boxplot for Na_to_K\")"
   ]
  },
  {
   "cell_type": "code",
   "execution_count": 10,
   "metadata": {},
   "outputs": [
    {
     "data": {
      "text/plain": [
       "<matplotlib.axes._subplots.AxesSubplot at 0x2122f697df0>"
      ]
     },
     "execution_count": 10,
     "metadata": {},
     "output_type": "execute_result"
    },
    {
     "data": {
      "image/png": "[encoded data removed]",
      "text/plain": [
       "<Figure size 432x288 with 1 Axes>"
      ]
     },
     "metadata": {},
     "output_type": "display_data"
    }
   ],
   "source": [
    "df[\"Age\"].plot(kind=\"hist\", title=\"Histogram for Age\")"
   ]
  },
  {
   "cell_type": "code",
   "execution_count": 11,
   "metadata": {},
   "outputs": [
    {
     "data": {
      "text/plain": [
       "<matplotlib.axes._subplots.AxesSubplot at 0x2122f6ffe80>"
      ]
     },
     "execution_count": 11,
     "metadata": {},
     "output_type": "execute_result"
    },
    {
     "data": {
      "image/png": "[encoded data removed]",
      "text/plain": [
       "<Figure size 432x288 with 1 Axes>"
      ]
     },
     "metadata": {},
     "output_type": "display_data"
    }
   ],
   "source": [
    "df[\"Age\"].plot(kind=\"box\", title=\"Box-plot for Age\")"
   ]
  },
  {
   "attachments": {},
   "cell_type": "markdown",
   "metadata": {},
   "source": [
    "Within scikit-learn, all estimators supporting binary classification also support multiclass classification,\n",
    "using One-vs-Rest by default.\n"
   ]
  },
  {
   "attachments": {},
   "cell_type": "markdown",
   "metadata": {},
   "source": [
    "### Pipeline setup"
   ]
  },
  {
   "attachments": {},
   "cell_type": "markdown",
   "metadata": {},
   "source": [
    "Separate pipeline for categorical and numerical features are made and combined later.\n",
    "Categorical features are encoded with one-hot encoding. Numeric features will use StandardScaler to have mean of 0 and variance 1. "
   ]
  },
  {
   "cell_type": "code",
   "execution_count": 12,
   "metadata": {},
   "outputs": [],
   "source": [
    "X_1 = df.drop(\"Drug\", axis=1)\n",
    "y_1 = df[\"Drug\"]"
   ]
  },
  {
   "cell_type": "code",
   "execution_count": 13,
   "metadata": {},
   "outputs": [],
   "source": [
    "cat_pipeline = Pipeline(\n",
    "    steps=[\n",
    "        (\"oh-encode\", OneHotEncoder(handle_unknown=\"ignore\", sparse=False))\n",
    "    ]\n",
    ")\n",
    "\n",
    "num_pipeline = Pipeline(\n",
    "    steps=[\n",
    "        (\"scale\", StandardScaler())\n",
    "    ]\n",
    ")"
   ]
  },
  {
   "attachments": {},
   "cell_type": "markdown",
   "metadata": {},
   "source": [
    "Separate numeric and categorical columns, and pass them through their respective pipeline using ColumnTransformer"
   ]
  },
  {
   "cell_type": "code",
   "execution_count": 14,
   "metadata": {},
   "outputs": [],
   "source": [
    "cat_cols = X_1.select_dtypes(exclude=\"number\").columns\n",
    "num_cols = X_1.select_dtypes(include=\"number\").columns"
   ]
  },
  {
   "cell_type": "code",
   "execution_count": 15,
   "metadata": {},
   "outputs": [],
   "source": [
    "col_trans = ColumnTransformer(transformers=[\n",
    "    (\"numeric\", num_pipeline, num_cols),\n",
    "    (\"categorical\", cat_pipeline, cat_cols)\n",
    "])"
   ]
  },
  {
   "cell_type": "code",
   "execution_count": 16,
   "metadata": {},
   "outputs": [],
   "source": [
    "X_p_1= col_trans.fit_transform(X_1)\n",
    "y_p_1= y_1.values.reshape(-1,1)\n"
   ]
  },
  {
   "attachments": {},
   "cell_type": "markdown",
   "metadata": {},
   "source": [
    "Preprocess and split the data Classifier "
   ]
  },
  {
   "cell_type": "code",
   "execution_count": 17,
   "metadata": {},
   "outputs": [],
   "source": [
    "#Split the data into train and test sets\n",
    "#X_train_1, X_test_1, y_train_1, y_test_1 = train_test_split(X_1, y_1, test_size=0.2, random_state=42, stratify=y)\n",
    "X_train_1, X_test_1,y_train_1, y_test_1 = train_test_split(X_p_1, y_p_1,test_size=0.2, stratify=y_p_1,random_state=42)\n"
   ]
  },
  {
   "cell_type": "code",
   "execution_count": 18,
   "metadata": {},
   "outputs": [
    {
     "name": "stderr",
     "output_type": "stream",
     "text": [
      "c:\\ProgramData\\Anaconda3\\lib\\site-packages\\sklearn\\utils\\validation.py:73: DataConversionWarning: A column-vector y was passed when a 1d array was expected. Please change the shape of y to (n_samples, ), for example using ravel().\n",
      "  return f(**kwargs)\n"
     ]
    }
   ],
   "source": [
    "le =  LabelEncoder()\n",
    "y_train_1 = le.fit_transform(y_train_1)\n",
    "y_test_1 = le.fit_transform(y_test_1)"
   ]
  },
  {
   "attachments": {},
   "cell_type": "markdown",
   "metadata": {},
   "source": [
    "### KNN Classifier"
   ]
  },
  {
   "cell_type": "code",
   "execution_count": 19,
   "metadata": {},
   "outputs": [
    {
     "name": "stdout",
     "output_type": "stream",
     "text": [
      "Initial KNN accuracy is: 0.675\n",
      "Initial KNN F1 score is: 0.675\n"
     ]
    }
   ],
   "source": [
    "knn_1 = KNeighborsClassifier()\n",
    "knn_1.fit(X_train_1, y_train_1)\n",
    "y_pred_1 = knn_1.predict(X_test_1)\n",
    "print(\"Initial KNN accuracy is:\", accuracy_score(y_test_1, y_pred_1))\n",
    "f_knn_1 = f1_score(y_test_1, y_pred_1, average='micro')\n",
    "print(\"Initial KNN F1 score is:\", f_knn_1)"
   ]
  },
  {
   "cell_type": "code",
   "execution_count": 20,
   "metadata": {},
   "outputs": [],
   "source": [
    "# inspecting the fit of the KNN model for different number of neighbours\n",
    "neighbors = np.arange(1,13)\n",
    "train_accuracies = {}\n",
    "test_accuracies = {}\n",
    "f_score = {}\n",
    "\n",
    "for n in neighbors:\n",
    "\n",
    "    #KNN model setup\n",
    "    knn = KNeighborsClassifier(n_neighbors=n)\n",
    "\n",
    "    # Fit the mode\n",
    "    knn.fit(X_train_1, y_train_1)\n",
    "\n",
    "    #compute accuracy\n",
    "    train_accuracies[n] = knn.score(X_train_1, y_train_1)\n",
    "    test_accuracies[n] = knn.score(X_test_1,y_test_1)\n",
    "    y_pred = knn.predict(X_test_1)\n",
    "    f_score[n] = f1_score(y_test_1, y_pred, average='micro')"
   ]
  },
  {
   "cell_type": "code",
   "execution_count": 21,
   "metadata": {},
   "outputs": [],
   "source": [
    "def val_to_array(d):\n",
    "    ''' takes dictionary d and returns a numpy array of its values'''\n",
    "    v1 = d.values()\n",
    "    v2 = list(v1)\n",
    "    v3 = np.array(v2)\n",
    "    \n",
    "    return v3"
   ]
  },
  {
   "cell_type": "code",
   "execution_count": 22,
   "metadata": {},
   "outputs": [],
   "source": [
    "# converting dict values to numpy array for plotting\n",
    "train_acc_val = val_to_array(train_accuracies)\n",
    "test_acc_val = val_to_array(test_accuracies)\n",
    "f_scr_val = val_to_array(f_score)"
   ]
  },
  {
   "cell_type": "code",
   "execution_count": 23,
   "metadata": {},
   "outputs": [
    {
     "data": {
      "image/png": "[encoded data removed]",
      "text/plain": [
       "<Figure size 432x288 with 1 Axes>"
      ]
     },
     "metadata": {},
     "output_type": "display_data"
    }
   ],
   "source": [
    "plt.title(\"KNN Accuracy for Various Number of neighbors\")\n",
    "plt.plot(neighbors, train_acc_val, label=\"Training Accuracies\")\n",
    "plt.plot(neighbors, test_acc_val, label=\"Testing Accuracies\")\n",
    "#plt.xlim([0,13])\n",
    "#plt.ylim([0, 1])\n",
    "plt.legend()\n",
    "plt.ylabel(\"Accuracy\")\n",
    "plt.xlabel(\"Number of neighbours\")\n",
    "plt.show()"
   ]
  },
  {
   "cell_type": "code",
   "execution_count": 24,
   "metadata": {},
   "outputs": [
    {
     "data": {
      "image/png": "[encoded data removed]",
      "text/plain": [
       "<Figure size 432x288 with 1 Axes>"
      ]
     },
     "metadata": {},
     "output_type": "display_data"
    }
   ],
   "source": [
    "plt.title(\"Micro-averaged F1 score for Various Number of neighbors\")\n",
    "plt.plot(neighbors, f_scr_val, label=\"F1 score\")\n",
    "plt.legend()\n",
    "plt.ylabel(\"F1 score\")\n",
    "plt.xlabel(\"Number of neighbours\")\n",
    "plt.show()"
   ]
  },
  {
   "attachments": {},
   "cell_type": "markdown",
   "metadata": {},
   "source": [
    "Hypertuning the KNN model"
   ]
  },
  {
   "cell_type": "code",
   "execution_count": 25,
   "metadata": {},
   "outputs": [],
   "source": [
    "# tweek these hyperparameters for KNN model\n",
    "param_grid_k = {\n",
    "    \"leaf_size\": [1,5,10,20,50],\n",
    "    \"n_neighbors\": [2,4,5,6,7],\n",
    "    \"p\":[1,2,3],\n",
    "    }"
   ]
  },
  {
   "cell_type": "code",
   "execution_count": 26,
   "metadata": {},
   "outputs": [],
   "source": [
    "knn_2 = KNeighborsClassifier()\n",
    "grid_cv_k = GridSearchCV(knn_2, param_grid_k, cv=5, n_jobs=-1)\n",
    "knn_best = grid_cv_k.fit(X_train_1, y_train_1)"
   ]
  },
  {
   "cell_type": "code",
   "execution_count": 27,
   "metadata": {},
   "outputs": [
    {
     "name": "stdout",
     "output_type": "stream",
     "text": [
      "{'leaf_size': 1, 'n_neighbors': 7, 'p': 3}\n"
     ]
    }
   ],
   "source": [
    "# parameters of best knn model\n",
    "print(knn_best.best_params_)"
   ]
  },
  {
   "cell_type": "code",
   "execution_count": 28,
   "metadata": {},
   "outputs": [
    {
     "name": "stdout",
     "output_type": "stream",
     "text": [
      "KNN model prediction accuracy is: 75.0 %\n",
      "\n",
      "Confusion matrix for KNN Classier:\n",
      "\n",
      "[[[15  7]\n",
      "  [ 3 15]]\n",
      "\n",
      " [[35  0]\n",
      "  [ 3  2]]\n",
      "\n",
      " [[37  0]\n",
      "  [ 1  2]]\n",
      "\n",
      " [[37  0]\n",
      "  [ 2  1]]\n",
      "\n",
      " [[26  3]\n",
      "  [ 1 10]]]\n",
      "\n",
      "Micro-averaged F1 score is:0.75\n"
     ]
    }
   ],
   "source": [
    "# setup KNN model using best params\n",
    "knn_final = KNeighborsClassifier(n_neighbors=7,p=3, leaf_size=3) #seeing 4 neighbours give best results\n",
    "knn_final.fit(X_train_1, y_train_1)\n",
    "y_pred_1 = knn.predict(X_test_1)\n",
    "print(f\"KNN model prediction accuracy is: {knn_final.score(X_test_1, y_test_1)*100} %\\n\")\n",
    "#print model predictions\n",
    "#print(\"Predictions: {}\\n\".format(y_pred_1))\n",
    "c_mat_k = multilabel_confusion_matrix(y_test_1, y_pred_1)\n",
    "print(\"Confusion matrix for KNN Classier:\\n\")\n",
    "print(c_mat_k)\n",
    "print()\n",
    "micro_avg_f1 = f1_score(y_test_1, y_pred_1, average='micro')\n",
    "print(f\"Micro-averaged F1 score is:{micro_avg_f1}\")"
   ]
  },
  {
   "cell_type": "code",
   "execution_count": 29,
   "metadata": {},
   "outputs": [
    {
     "data": {
      "text/plain": [
       "(5, 2, 2)"
      ]
     },
     "execution_count": 29,
     "metadata": {},
     "output_type": "execute_result"
    }
   ],
   "source": [
    "c_mat_k.shape"
   ]
  },
  {
   "attachments": {},
   "cell_type": "markdown",
   "metadata": {},
   "source": [
    "### XGBoost Classifier"
   ]
  },
  {
   "attachments": {},
   "cell_type": "markdown",
   "metadata": {},
   "source": [
    "XGboost: Classifier setup, train and evaluation"
   ]
  },
  {
   "cell_type": "code",
   "execution_count": 30,
   "metadata": {},
   "outputs": [
    {
     "name": "stdout",
     "output_type": "stream",
     "text": [
      "Accuracy score is: 97.5 %\n"
     ]
    }
   ],
   "source": [
    "#setup\n",
    "xgb_1 = xgb.XGBClassifier()\n",
    "\n",
    "#Fit the model\n",
    "xgb_1.fit(X_train_1, y_train_1)\n",
    "\n",
    "#Prediction\n",
    "y_pred_xgb = xgb_1.predict(X_test_1)\n",
    "\n",
    "#Accuracy\n",
    "acc = accuracy_score(y_test_1, y_pred_xgb)\n",
    "print(f\"Accuracy score is: {acc*100} %\")\n"
   ]
  },
  {
   "attachments": {},
   "cell_type": "markdown",
   "metadata": {},
   "source": [
    "XGboost: Hypertuning the parameters\n"
   ]
  },
  {
   "cell_type": "code",
   "execution_count": 31,
   "metadata": {},
   "outputs": [],
   "source": [
    "#tweeking these parameters of Xgboost classifier\n",
    "param_grid_x = {\n",
    "    \"max_depth\": [3,4,5],\n",
    "    \"learning_rate\": [0.01, 0.03, 0.1],\n",
    "    \"gamma\":[0, 0.25, 0.5],\n",
    "    \"reg_lambda\":[0, 1, 5],\n",
    "    }"
   ]
  },
  {
   "cell_type": "code",
   "execution_count": 32,
   "metadata": {},
   "outputs": [
    {
     "name": "stderr",
     "output_type": "stream",
     "text": [
      "c:\\ProgramData\\Anaconda3\\lib\\site-packages\\sklearn\\utils\\validation.py:73: DataConversionWarning: A column-vector y was passed when a 1d array was expected. Please change the shape of y to (n_samples, ), for example using ravel().\n",
      "  return f(**kwargs)\n"
     ]
    }
   ],
   "source": [
    "#setup xbg classifier for gridsearchCV\n",
    "xgb_2 = xgb.XGBClassifier()\n",
    "\n",
    "#setup the gridcsearchCV\n",
    "grid_cv_x = GridSearchCV(xgb_2, param_grid_x, cv=3, n_jobs=-1)\n",
    "\n",
    "#\n",
    "y_p_1 = le.fit_transform(y_p_1)\n",
    "_ = grid_cv_x.fit(X_p_1, y_p_1)"
   ]
  },
  {
   "cell_type": "code",
   "execution_count": 33,
   "metadata": {},
   "outputs": [
    {
     "data": {
      "text/plain": [
       "{'gamma': 0, 'learning_rate': 0.1, 'max_depth': 3, 'reg_lambda': 5}"
      ]
     },
     "execution_count": 33,
     "metadata": {},
     "output_type": "execute_result"
    }
   ],
   "source": [
    "xgb_best_params = grid_cv_x.best_params_\n",
    "xgb_best_params"
   ]
  },
  {
   "cell_type": "code",
   "execution_count": 34,
   "metadata": {},
   "outputs": [
    {
     "name": "stdout",
     "output_type": "stream",
     "text": [
      "Accuracy of XGB Classifier after hypertuning is :95.0 %\n",
      "F1 score of XGB Classifier after hypertuning is :95.0 %\n",
      "Confusion matrix for XGBoost Classier:\n",
      "\n",
      "[[[21  1]\n",
      "  [ 0 18]]\n",
      "\n",
      " [[35  0]\n",
      "  [ 1  4]]\n",
      "\n",
      " [[36  1]\n",
      "  [ 0  3]]\n",
      "\n",
      " [[37  0]\n",
      "  [ 0  3]]\n",
      "\n",
      " [[29  0]\n",
      "  [ 1 10]]]\n"
     ]
    }
   ],
   "source": [
    "xgb_final = xgb.XGBClassifier(**xgb_best_params)\n",
    "xgb_final.fit(X_train_1, y_train_1)\n",
    "y_pred_xgb_final = xgb_final.predict(X_test_1)\n",
    "acc_xgb_final = accuracy_score(y_test_1, y_pred_xgb_final)\n",
    "f1_xgb_final = f1_score(y_test_1, y_pred_xgb_final, average='micro')\n",
    "print(f\"Accuracy of XGB Classifier after hypertuning is :{acc_xgb_final*100} %\")\n",
    "print(f\"F1 score of XGB Classifier after hypertuning is :{f1_xgb_final*100} %\")\n",
    "print(\"Confusion matrix for XGBoost Classier:\\n\")\n",
    "c_mat_x = multilabel_confusion_matrix(y_test_1, y_pred_xgb_final)\n",
    "print(c_mat_x)"
   ]
  }
 ],
 "metadata": {
  "kernelspec": {
   "display_name": "base",
   "language": "python",
   "name": "python3"
  },
  "language_info": {
   "codemirror_mode": {
    "name": "ipython",
    "version": 3
   },
   "file_extension": ".py",
   "mimetype": "text/x-python",
   "name": "python",
   "nbconvert_exporter": "python",
   "pygments_lexer": "ipython3",
   "version": "3.8.3"
  },
  "orig_nbformat": 4,
  "vscode": {
   "interpreter": {
    "hash": "ad2bdc8ecc057115af97d19610ffacc2b4e99fae6737bb82f5d7fb13d2f2c186"
   }
  }
 },
 "nbformat": 4,
 "nbformat_minor": 2
}
